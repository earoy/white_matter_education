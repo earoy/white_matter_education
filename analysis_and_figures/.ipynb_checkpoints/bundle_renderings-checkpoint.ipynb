{
 "cells": [
  {
   "cell_type": "code",
   "execution_count": 1,
   "id": "56fac441",
   "metadata": {},
   "outputs": [
    {
     "name": "stderr",
     "output_type": "stream",
     "text": [
      "/Users/Ethan/opt/anaconda3/envs/pyafq_env/lib/python3.9/site-packages/tqdm/auto.py:21: TqdmWarning: IProgress not found. Please update jupyter and ipywidgets. See https://ipywidgets.readthedocs.io/en/stable/user_install.html\n",
      "  from .autonotebook import tqdm as notebook_tqdm\n"
     ]
    }
   ],
   "source": [
    "import os\n",
    "import os.path as op\n",
    "import nibabel as nib\n",
    "import numpy as np\n",
    "\n",
    "from dipy.io.streamline import load_trk\n",
    "from dipy.tracking.streamline import transform_streamlines\n",
    "\n",
    "from fury import actor, window\n",
    "from fury.colormap import create_colormap\n",
    "\n",
    "import AFQ.data.fetch as afd\n",
    "\n",
    "import boto3\n",
    "from botocore import UNSIGNED\n",
    "from botocore.client import Config\n",
    "from tqdm import tqdm\n",
    "\n",
    "import os\n",
    "import os.path as op\n",
    "import json\n",
    "from glob import glob\n",
    "import shutil\n",
    "import pandas as pd\n",
    "\n",
    "# import statsmodels.formula.api as sm\n",
    "# from statsmodels.stats.multitest import fdrcorrection\n",
    "import seaborn as sns\n",
    "from matplotlib import pyplot as plt\n",
    "import math\n"
   ]
  },
  {
   "cell_type": "code",
   "execution_count": 3,
   "id": "cea1dafc",
   "metadata": {},
   "outputs": [],
   "source": [
    "## Helper function to convert 30-color hex palette to RGB\n",
    "\n",
    "hex_list = [\"#fcff5d\",\"#7dfc00\",\"#0ec434\",\"#228c68\",\"#8ad8e8\",\"#235b54\",\"#29bdab\",\"#3998f5\",\n",
    "            \"#37294f\",\"#946aa2\",\"#3750db\",\"#f22020\",\"#991919\",\"#ffcba5\",\"#e68f66\",\"#c56133\",\n",
    "            \"#96341c\",\"#632819\",\"#ffc413\",\"#f47a22\",\"#2f2aa0\",\"#b732cc\",\"#772b9d\",\"#f07cab\",\n",
    "            \"#d30b94\",\"#edeff3\",\"#946aa2\",\"#5d4c86\",]\n",
    "\n",
    "def hex_to_rgb(hex_value):\n",
    "    hex_value = hex_value.lstrip(\"#\")\n",
    "    return tuple(int(hex_value[i:i+2], 16) for i in (0, 2, 4))\n",
    "\n",
    "rgb_list = [hex_to_rgb(hex_value) for hex_value in hex_list]\n"
   ]
  },
  {
   "cell_type": "markdown",
   "id": "12de409c",
   "metadata": {},
   "source": [
    "## Load data and Generate Correlations"
   ]
  },
  {
   "cell_type": "code",
   "execution_count": 3,
   "id": "163909a9",
   "metadata": {},
   "outputs": [
    {
     "name": "stderr",
     "output_type": "stream",
     "text": [
      "/Users/Ethan/opt/anaconda3/envs/pyafq_env/lib/python3.9/site-packages/pandas/core/arraylike.py:396: RuntimeWarning: divide by zero encountered in log\n",
      "  result = getattr(ufunc, method)(*inputs, **kwargs)\n"
     ]
    }
   ],
   "source": [
    "# Load mixed-effects model output\n",
    "model_output_df = pd.read_csv('../../data/baseline_fa_model_output_updated_ses_no_qsi_prep_fa_int.csv')\n",
    "model_output_df['neg_log10p_adj'] = -1* np.log(model_output_df['adj_p'])\n"
   ]
  },
  {
   "cell_type": "code",
   "execution_count": 4,
   "id": "3191f46e",
   "metadata": {},
   "outputs": [],
   "source": [
    "# Generate Correlations between mean FA and SEDA intercept\n",
    "\n",
    "subject_df = pd.read_csv('../../data/subjects.csv')\n",
    "subject_df['subjectID'] = \"sub-\"+subject_df['subjectID']\n",
    "\n",
    "baseline_means_df = pd.read_csv('../../data/harmonized_mean_baseline.csv').merge(subject_df, on='subjectID')\n",
    "\n",
    "baseline_means_df_wide = baseline_means_df[['subjectID','tractID','led_sch_seda_s_mn_avg_eb','dki_fa']].pivot(index=['subjectID','led_sch_seda_s_mn_avg_eb'],\n",
    "               columns='tractID', values='dki_fa').reset_index()\n",
    "\n",
    "tracts = baseline_means_df.tractID.unique()\n",
    "\n",
    "mean_corr_df_long = baseline_means_df_wide.set_index('subjectID').corr().reset_index()\n",
    "\n",
    "mean_corr_df = pd.melt(mean_corr_df_long[mean_corr_df_long['tractID']=='led_sch_seda_s_mn_avg_eb'],\n",
    "        id_vars=['tractID'], \n",
    "        value_vars=tracts,\n",
    "        var_name='bundle', value_name='corr')"
   ]
  },
  {
   "cell_type": "markdown",
   "id": "7a3c42df",
   "metadata": {},
   "source": [
    "## Generate Visualizations"
   ]
  },
  {
   "cell_type": "code",
   "execution_count": 6,
   "id": "fcf9c2c8",
   "metadata": {},
   "outputs": [],
   "source": [
    "def fetch_hbn_preproc(subjects, path=None):\n",
    "    \"\"\"\n",
    "    Fetches data from the Healthy Brain Network POD2 study [1, 2]_.\n",
    "    Parameters\n",
    "    ----------\n",
    "    subjects : list\n",
    "        Identifiers of the subjects to download.\n",
    "        For example: [\"NDARAA112DMH\", \"NDARAA117NEJ\"].\n",
    "    path : string, optional\n",
    "        Path to save files into. Default: '~/AFQ_data'\n",
    "    Returns\n",
    "    -------\n",
    "    dict with remote and local names of these files,\n",
    "    path to BIDS derivative dataset\n",
    "    Notes\n",
    "    -----\n",
    "    .. [1] Alexander LM, Escalera J, Ai L, et al. An open resource for\n",
    "        transdiagnostic research in pediatric mental health and learning\n",
    "        disorders. Sci Data. 2017;4:170181.\n",
    "    .. [2] Richie-Halford A, Cieslak M, Ai L, et al. An analysis-ready and\n",
    "        quality controlled resource for pediatric brain white-matter research.\n",
    "        Scientific Data. 2022;9(1):1-27.\n",
    "    \"\"\"\n",
    "    # Anonymous access:\n",
    "    client = boto3.client('s3', config=Config(signature_version=UNSIGNED))\n",
    "\n",
    "    afq_home = op.join(op.expanduser(\"../../data/\"), 'AFQ_data')\n",
    "\n",
    "    if path is None:\n",
    "        if not op.exists(afq_home):\n",
    "            os.mkdir(afq_home)\n",
    "        my_path = afq_home\n",
    "    else:\n",
    "        my_path = path\n",
    "\n",
    "    base_dir = op.join(my_path, \"HBN\", 'derivatives', 'qsiprep')\n",
    "\n",
    "    if not os.path.exists(base_dir):\n",
    "        os.makedirs(base_dir, exist_ok=True)\n",
    "\n",
    "    data_files = {}\n",
    "\n",
    "    for subject in subjects:\n",
    "        initial_query = client.list_objects(\n",
    "            Bucket=\"fcp-indi\",\n",
    "            Prefix=f\"data/Projects/HBN/BIDS_curated/sub-{subject}/\")\n",
    "        ses = initial_query['Contents'][0][\"Key\"].split('/')[5]\n",
    "        query = client.list_objects(\n",
    "            Bucket=\"fcp-indi\",\n",
    "            Prefix=f\"data/Projects/HBN/BIDS_curated/derivatives/qsiprep/sub-{subject}/\")  # noqa\n",
    "        file_list = [kk[\"Key\"] for kk in query[\"Contents\"]]\n",
    "        sub_dir = op.join(base_dir, f'sub-{subject}')\n",
    "        ses_dir = op.join(sub_dir, ses)\n",
    "        if not os.path.exists(sub_dir):\n",
    "            os.makedirs(os.path.join(sub_dir, 'anat'), exist_ok=True)\n",
    "            os.makedirs(os.path.join(sub_dir, 'figures'), exist_ok=True)\n",
    "            os.makedirs(os.path.join(ses_dir, 'dwi'), exist_ok=True)\n",
    "            os.makedirs(os.path.join(ses_dir, 'anat'), exist_ok=True)\n",
    "        for remote in file_list:\n",
    "            full = remote.split(\"Projects\")[-1][1:].replace(\"/BIDS_curated\", \"\")\n",
    "            local = op.join(afq_home, full)\n",
    "            data_files[local] = remote\n",
    "\n",
    "    download_files = {}\n",
    "    for k in data_files.keys():\n",
    "        if not op.exists(k):\n",
    "            download_files[k] = data_files[k]\n",
    "    if len(download_files.keys()):\n",
    "        with tqdm(total=len(download_files.keys())) as pbar:\n",
    "            for k in download_files.keys():\n",
    "                pbar.set_description_str(f\"Downloading {k}\")\n",
    "                client.download_file(\"fcp-indi\", download_files[k], k)\n",
    "                pbar.update()\n",
    "\n",
    "    # Create the BIDS dataset description file text\n",
    "    hbn_acknowledgements = \"\"\"XXX\"\"\",  # noqa\n",
    "    to_bids_description(op.join(my_path, \"HBN\"),\n",
    "                        **{\"Name\": \"HBN\",\n",
    "                           \"Acknowledgements\": hbn_acknowledgements,\n",
    "                           \"Subjects\": subjects})\n",
    "\n",
    "    # Create the BIDS derivatives description file text\n",
    "    to_bids_description(base_dir,\n",
    "                        **{\"Name\": \"HBN\",\n",
    "                           \"Acknowledgements\": hbn_acknowledgements,\n",
    "                           \"PipelineDescription\": {'Name': 'qsiprep'}})\n",
    "\n",
    "    return data_files, op.join(my_path, \"HBN\")"
   ]
  },
  {
   "cell_type": "code",
   "execution_count": 7,
   "id": "3aa351bc",
   "metadata": {},
   "outputs": [],
   "source": [
    "def fetch_hbn_afq(subjects, path=None):\n",
    "    \"\"\"\n",
    "    Fetches AFQ derivatives for Healthy Brain Network POD2 study [1, 2]_.\n",
    "    Parameters\n",
    "    ----------\n",
    "    subjects : list\n",
    "        Identifiers of the subjects to download.\n",
    "        For example: [\"NDARAA112DMH\", \"NDARAA117NEJ\"].\n",
    "    path : string, optional\n",
    "        Path to save files into. Default: '~/AFQ_data'\n",
    "    Returns\n",
    "    -------\n",
    "    dict with remote and local names of these files,\n",
    "    path to BIDS derivative dataset\n",
    "    Notes\n",
    "    -----\n",
    "    .. [1] Alexander LM, Escalera J, Ai L, et al. An open resource for\n",
    "        transdiagnostic research in pediatric mental health and learning\n",
    "        disorders. Sci Data. 2017;4:170181.\n",
    "    .. [2] Richie-Halford A, Cieslak M, Ai L, et al. An analysis-ready and\n",
    "        quality controlled resource for pediatric brain white-matter research.\n",
    "        Scientific Data. 2022;9(1):1-27.\n",
    "    \"\"\"\n",
    "    # Anonymous access:\n",
    "    client = boto3.client('s3', config=Config(signature_version=UNSIGNED))\n",
    "    afq_home = \"../../data/AFQ_data\"\n",
    "\n",
    "    if path is None:\n",
    "        if not op.exists(afq_home):\n",
    "            os.mkdir(afq_home)\n",
    "        my_path = afq_home\n",
    "    else:\n",
    "        my_path = path\n",
    "\n",
    "\n",
    "    base_dir = op.join(my_path, \"HBN\", 'derivatives', 'afq')\n",
    "\n",
    "    if not os.path.exists(base_dir):\n",
    "        os.makedirs(base_dir, exist_ok=True)\n",
    "\n",
    "    data_files = {}\n",
    "\n",
    "    for subject in subjects:\n",
    "        initial_query = client.list_objects(\n",
    "            Bucket=\"fcp-indi\",\n",
    "            Prefix=f\"data/Projects/HBN/BIDS_curated/sub-{subject}/\")\n",
    "        ses = initial_query['Contents'][0][\"Key\"].split('/')[5]\n",
    "        query = client.list_objects(\n",
    "            Bucket=\"fcp-indi\",\n",
    "            Prefix=f\"data/Projects/HBN/BIDS_curated/derivatives/afq/sub-{subject}/\")  # noqa\n",
    "        file_list = [kk[\"Key\"] for kk in query[\"Contents\"]]\n",
    "        sub_dir = op.join(base_dir, f'sub-{subject}')\n",
    "        ses_dir = op.join(sub_dir, ses)\n",
    "\n",
    "        for deriv_dir in [\"bundles\",\n",
    "                        \"clean_bundles\",\n",
    "                        \"ROIs\",\n",
    "                        \"tract_profile_plots\",\n",
    "                        \"viz_bundles\"]:\n",
    "            this_deriv = os.path.join(ses_dir, deriv_dir)\n",
    "            if not os.path.exists(this_deriv):\n",
    "                os.makedirs(this_deriv, exist_ok=True)\n",
    "        for remote in file_list:\n",
    "            full = remote.split(\"Projects\")[-1][1:].replace(\"/BIDS_curated\", \"\")\n",
    "            local = op.join(afq_home, full)\n",
    "            data_files[local] = remote\n",
    "\n",
    "    download_files = {}\n",
    "    for k in data_files.keys():\n",
    "        if not op.exists(k):\n",
    "            download_files[k] = data_files[k]\n",
    "    if len(download_files.keys()):\n",
    "        with tqdm(total=len(download_files.keys())) as pbar:\n",
    "            for k in download_files.keys():\n",
    "                pbar.set_description_str(f\"Downloading {k}\")\n",
    "                client.download_file(\"fcp-indi\", download_files[k], k)\n",
    "                pbar.update()\n",
    "\n",
    "    # Create the BIDS dataset description file text\n",
    "    hbn_acknowledgements = \"\"\"XXX\"\"\",  # noqa\n",
    "    to_bids_description(op.join(my_path, \"HBN\"),\n",
    "                        **{\"Name\": \"HBN\",\n",
    "                           \"Acknowledgements\": hbn_acknowledgements,\n",
    "                           \"Subjects\": subjects})\n",
    "\n",
    "    # Create the BIDS derivatives description file text\n",
    "    to_bids_description(base_dir,\n",
    "                        **{\"Name\": \"HBN\",\n",
    "                           \"PipelineDescription\": {'Name': 'afq'}})\n",
    "\n",
    "    return data_files, op.join(my_path, \"HBN\")\n",
    "\n",
    "def to_bids_description(path, fname='dataset_description.json',\n",
    "                        BIDSVersion=\"1.4.0\", **kwargs):\n",
    "    \"\"\"Dumps a dict into a bids description at the given location\"\"\"\n",
    "    kwargs.update({\"BIDSVersion\": BIDSVersion})\n",
    "    desc_file = op.join(path, fname)\n",
    "    with open(desc_file, 'w') as outfile:\n",
    "        json.dump(kwargs, outfile)"
   ]
  },
  {
   "cell_type": "code",
   "execution_count": 8,
   "id": "150620cd",
   "metadata": {},
   "outputs": [],
   "source": [
    "# afq_path = \"~/../../../scratch/users/ethanroy/\"\n",
    "\n",
    "fetch_hbn_preproc([\"NDARAA948VFH\"],path='../../data/AFQ_data')\n",
    "study_path = fetch_hbn_afq([\"NDARAA948VFH\"],path='../../data/AFQ_data')[1]\n",
    "\n",
    "deriv_path = op.join(\n",
    "    study_path, \"derivatives\")\n",
    "\n",
    "afq_path = op.join(\n",
    "    deriv_path,\n",
    "    'afq',\n",
    "    'sub-NDARAA948VFH',\n",
    "    'ses-HBNsiteRU')\n",
    "\n",
    "bundle_path = op.join(afq_path,\n",
    "                      'clean_bundles')"
   ]
  },
  {
   "cell_type": "code",
   "execution_count": 9,
   "id": "a7979a2f",
   "metadata": {},
   "outputs": [],
   "source": [
    "## Update using ABCD paths saved on oak\n",
    "\n",
    "afq_path = '/Users/Ethan/Documents/Stanford/afq/abcd/data/bundle_renderings'\n",
    "bundle_path = '/Users/Ethan/Documents/Stanford/afq/abcd/data/bundle_renderings/clean_bundles'\n"
   ]
  },
  {
   "cell_type": "code",
   "execution_count": 146,
   "id": "9def76a6",
   "metadata": {},
   "outputs": [],
   "source": [
    "## Load FA image for exemplar participant\n",
    "\n",
    "fa_img = nib.load(op.join(afq_path,\n",
    "'sub-NDARINV9NN9PU4H_ses-baselineYear1Arm1_space-T1w_desc-preproc_dwi_model-DKI_desc-FA_dwi.nii.gz'))\n",
    "fa = fa_img.get_fdata()\n",
    "# sft_arc = load_trk(op.join(bundle_path,\n",
    "#      'sub-NDARINV9NN9PU4H_ses-baselineYear1Arm1_space-T1w_desc-preproc_dwi_space-RASMM_model-probCSD_algo-AFQ_desc-ARCL_tractography.trk'), fa_img)\n",
    "# sft_cst = load_trk(op.join(bundle_path,\n",
    "#      'sub-NDARINV9NN9PU4H_ses-baselineYear1Arm1_space-T1w_desc-preproc_dwi_space-RASMM_model-probCSD_algo-AFQ_desc-CSTL_tractography.trk'), fa_img)\n",
    "\n"
   ]
  },
  {
   "cell_type": "code",
   "execution_count": 147,
   "id": "5c9da65c",
   "metadata": {},
   "outputs": [],
   "source": [
    "## Load tractography for each bundle in exemplar participant\n",
    "\n",
    "tracts = ['ARCL', 'ARCR', 'ATRL', 'ATRR', 'AntFrontal', 'CGCL', 'CGCR',\n",
    "       'CSTL', 'CSTR','IFOL', 'IFOR', 'ILFL', 'ILFR',\n",
    "       'Motor', 'Occipital', 'Orbital', 'PostParietal', 'SLFL', 'SLFR',\n",
    "       'SupFrontal', 'SupParietal', 'Temporal', 'UNCL', 'UNCR','pARCL','pARCR','VOFL','VOFR']\n",
    "\n",
    "bundle_dict = {\n",
    "    tract: {'tractogram':load_trk(op.join(bundle_path,\n",
    "     'sub-NDARINV9NN9PU4H_ses-baselineYear1Arm1_space-T1w_desc-preproc_dwi_space-RASMM_model-probCSD_algo-AFQ_desc-'+tract+'_tractography.trk'),\n",
    "                                 fa_img)}\n",
    "    for tract in tracts\n",
    "}"
   ]
  },
  {
   "cell_type": "code",
   "execution_count": 148,
   "id": "18869ad4",
   "metadata": {},
   "outputs": [],
   "source": [
    "color_dict = {tract: rgb_list[i] for i, tract in enumerate(tracts)}"
   ]
  },
  {
   "cell_type": "code",
   "execution_count": 149,
   "id": "fce8f862",
   "metadata": {},
   "outputs": [],
   "source": [
    "# Load t1 image for exemplar subject\n",
    "\n",
    "t1w_img = nib.load(op.join(deriv_path,\n",
    "'qsiprep/sub-NDARAA948VFH/anat/sub-NDARAA948VFH_desc-preproc_T1w.nii.gz'))\n",
    "t1w = t1w_img.get_fdata()\n",
    "\n"
   ]
  },
  {
   "cell_type": "code",
   "execution_count": 150,
   "id": "485ca78f",
   "metadata": {},
   "outputs": [],
   "source": [
    "## Generate streamlines for each bundle\n",
    "\n",
    "for tract in bundle_dict.keys():\n",
    "    \n",
    "    temp_tract = bundle_dict[tract]['tractogram']\n",
    "    temp_tract.to_rasmm()\n",
    "    bundle_dict[tract]['t1w'] = transform_streamlines(temp_tract.streamlines,\n",
    "                                np.linalg.inv(t1w_img.affine))"
   ]
  },
  {
   "cell_type": "code",
   "execution_count": 151,
   "id": "615e0aac",
   "metadata": {},
   "outputs": [],
   "source": [
    "## Create Color Map (either overall bundles, correlation, or model output)\n",
    "\n",
    "# corr_color_map = create_colormap(np.array(mean_corr_df['corr']), 'viridis')\n",
    "# corr_color_map = create_colormap(np.array(model_output_df[model_output_df.predictor=='led_sch_seda_s_mn_avg_eb']['neg_log10p_adj']), 'viridis')\n",
    "corr_color_map = rgb_list\n",
    "\n",
    "corr_color_map_dict = {\n",
    "    tract: corr_color_map[i]\n",
    "    for i, tract in enumerate(tracts)\n",
    "}\n",
    "\n",
    "\n",
    "# sft_arc.to_rasmm()\n",
    "# sft_cst.to_rasmm()\n",
    "# arc_t1w = transform_streamlines(sft_arc.streamlines,\n",
    "#                                 np.linalg.inv(t1w_img.affine))\n",
    "# cst_t1w = transform_streamlines(sft_cst.streamlines,\n",
    "#                                 np.linalg.inv(t1w_img.affine))"
   ]
  },
  {
   "cell_type": "code",
   "execution_count": 152,
   "id": "4c7f7a24",
   "metadata": {},
   "outputs": [
    {
     "ename": "NameError",
     "evalue": "name 'model_output_df' is not defined",
     "output_type": "error",
     "traceback": [
      "\u001b[0;31m---------------------------------------------------------------------------\u001b[0m",
      "\u001b[0;31mNameError\u001b[0m                                 Traceback (most recent call last)",
      "Cell \u001b[0;32mIn[152], line 3\u001b[0m\n\u001b[1;32m      1\u001b[0m \u001b[38;5;66;03m## Generate list of significant bundles \u001b[39;00m\n\u001b[0;32m----> 3\u001b[0m sig_bundles \u001b[38;5;241m=\u001b[39m \u001b[43mmodel_output_df\u001b[49m[(model_output_df\u001b[38;5;241m.\u001b[39mpredictor\u001b[38;5;241m==\u001b[39m\u001b[38;5;124m'\u001b[39m\u001b[38;5;124mled_sch_seda_s_mn_avg_eb\u001b[39m\u001b[38;5;124m'\u001b[39m)\u001b[38;5;241m&\u001b[39m(model_output_df\u001b[38;5;241m.\u001b[39madj_p\u001b[38;5;241m<\u001b[39m\u001b[38;5;241m0.05\u001b[39m)]\n\u001b[1;32m      5\u001b[0m sig_bundles \u001b[38;5;241m=\u001b[39m sig_bundles\u001b[38;5;241m.\u001b[39mtractID\u001b[38;5;241m.\u001b[39munique()\n\u001b[1;32m      6\u001b[0m sig_bundles \u001b[38;5;241m=\u001b[39m [s\u001b[38;5;241m.\u001b[39mreplace(\u001b[38;5;124m'\u001b[39m\u001b[38;5;124m_\u001b[39m\u001b[38;5;124m'\u001b[39m, \u001b[38;5;124m'\u001b[39m\u001b[38;5;124m'\u001b[39m) \u001b[38;5;28;01mfor\u001b[39;00m s \u001b[38;5;129;01min\u001b[39;00m sig_bundles]\n",
      "\u001b[0;31mNameError\u001b[0m: name 'model_output_df' is not defined"
     ]
    }
   ],
   "source": [
    "## Generate list of significant bundles \n",
    "\n",
    "sig_bundles = model_output_df[(model_output_df.predictor=='led_sch_seda_s_mn_avg_eb')&(model_output_df.adj_p<0.05)]\n",
    "\n",
    "sig_bundles = sig_bundles.tractID.unique()\n",
    "sig_bundles = [s.replace('_', '') for s in sig_bundles]\n",
    "sig_bundles"
   ]
  },
  {
   "cell_type": "code",
   "execution_count": 153,
   "id": "aa1f39e2",
   "metadata": {},
   "outputs": [],
   "source": [
    "if os.environ.get(\"XVFB\", False):\n",
    "    print(\"Initializing XVFB\")\n",
    "    import xvfbwrapper\n",
    "    from xvfbwrapper import Xvfb\n",
    "\n",
    "    vdisplay = Xvfb()\n",
    "    vdisplay.start()"
   ]
  },
  {
   "cell_type": "code",
   "execution_count": 154,
   "id": "4f7558cc",
   "metadata": {},
   "outputs": [],
   "source": [
    "def lines_as_tubes(sl, line_width, **kwargs):\n",
    "    line_actor = actor.line(sl, **kwargs)\n",
    "    line_actor.GetProperty().SetRenderLinesAsTubes(1)\n",
    "    line_actor.GetProperty().SetLineWidth(line_width)\n",
    "    return line_actor\n",
    "\n",
    "for tract in bundle_dict.keys():\n",
    "    \n",
    "#     bundle_actor = lines_as_tubes(bundle_dict[tract]['t1w'], 8,\n",
    "#                                   colors=corr_color_map_dict[tract]\n",
    "#                                  )\n",
    "    \n",
    "#     print(tract, color_dict[tract])\n",
    "    bundle_actor = lines_as_tubes(bundle_dict[tract]['t1w'], 8,\n",
    "                                  colors=color_dict[tract]\n",
    "                                 )\n",
    "\n",
    "\n",
    "    bundle_dict[tract]['bundle_actor'] = bundle_actor\n",
    "    \n",
    "    \n",
    "# arc_actor = lines_as_tubes(arc_t1w, 8)\n",
    "# cst_actor = lines_as_tubes(cst_t1w, 8)"
   ]
  },
  {
   "cell_type": "code",
   "execution_count": 155,
   "id": "d0207239",
   "metadata": {},
   "outputs": [],
   "source": [
    "def slice_volume(data, x=None, y=None, z=None):\n",
    "    slicer_actors = []\n",
    "    slicer_actor_z = actor.slicer(data)\n",
    "    if z is not None:\n",
    "        slicer_actor_z.display_extent(\n",
    "            0, data.shape[0] - 1,\n",
    "            0, data.shape[1] - 1,\n",
    "            z, z)\n",
    "        slicer_actors.append(slicer_actor_z)\n",
    "    if y is not None:\n",
    "        slicer_actor_y = slicer_actor_z.copy()\n",
    "        slicer_actor_y.display_extent(\n",
    "            0, data.shape[0] - 1,\n",
    "            y, y,\n",
    "            0, data.shape[2] - 1)\n",
    "        slicer_actors.append(slicer_actor_y)\n",
    "    if x is not None:\n",
    "        slicer_actor_x = slicer_actor_z.copy()\n",
    "        slicer_actor_x.display_extent(\n",
    "            x, x,\n",
    "            0, data.shape[1] - 1,\n",
    "            0, data.shape[2] - 1)\n",
    "        slicer_actors.append(slicer_actor_x)\n",
    "\n",
    "    return slicer_actors\n",
    "\n",
    "\n",
    "slicers = slice_volume(t1w, x=t1w.shape[0]//2)\n",
    "slicers_z = slice_volume(t1w, z=t1w.shape[-1] // 3)"
   ]
  },
  {
   "cell_type": "code",
   "execution_count": 156,
   "id": "40571883",
   "metadata": {},
   "outputs": [],
   "source": [
    "right_hemisphere = [tract for tract in bundle_dict.keys() if tract[-1]=='R']\n",
    "left_hemisphere = [tract for tract in bundle_dict.keys() if tract[-1]=='L']\n",
    "collosal = [tract for tract in bundle_dict.keys() if tract[-1]=='l']+['Motor']"
   ]
  },
  {
   "cell_type": "code",
   "execution_count": 157,
   "id": "de7bf211",
   "metadata": {},
   "outputs": [],
   "source": [
    "## Generate Right Hemisphere Plots\n",
    "\n",
    "for tract in right_hemisphere:\n",
    "    \n",
    "    scene = window.Scene()\n",
    "    scene.add(bundle_dict[tract]['bundle_actor'])\n",
    "\n",
    "    for slicer in slicers:\n",
    "        scene.add(slicer)\n",
    "        \n",
    "    scene.set_camera(position=(-420.74, 148.69, 64.97),\n",
    "                 focal_point=(96.32, 114.00, 96.00),\n",
    "                 view_up=(-0.06, -0.02, 1.00))\n",
    "    \n",
    "    file_name = f'../figures/{tract}_plot.png'\n",
    "    window.record(scene, out_path=file_name, size=(2400, 2400))\n",
    "                     "
   ]
  },
  {
   "cell_type": "code",
   "execution_count": 158,
   "id": "39881af4",
   "metadata": {},
   "outputs": [],
   "source": [
    "## Generate Left Hemisphere Plots\n",
    "# Active Camera\n",
    "#    Position (720.10, 137.09, 166.40)\n",
    "#    Focal Point (96.32, 114.00, 96.00)\n",
    "#    View Up (-0.11, -0.06, 0.99)\n",
    "\n",
    "\n",
    "for tract in left_hemisphere:\n",
    "    \n",
    "    scene = window.Scene()\n",
    "    scene.add(bundle_dict[tract]['bundle_actor'])\n",
    "\n",
    "    for slicer in slicers:\n",
    "        scene.add(slicer)\n",
    "        \n",
    "    scene.set_camera(position=(720.10, 137.09, 166.40),\n",
    "                 focal_point=(96.32, 114.00, 96.00),\n",
    "                 view_up=(-0.06, -0.02, 1.00))\n",
    "    \n",
    "    file_name = f'../figures/{tract}_plot.png'\n",
    "    window.record(scene, out_path=file_name, size=(2400, 2400))"
   ]
  },
  {
   "cell_type": "code",
   "execution_count": 159,
   "id": "80f7f649",
   "metadata": {},
   "outputs": [],
   "source": [
    "## Generate Collosal Plots\n",
    "#  Position (96.00, 114.00, 599.59)\n",
    "#    Focal Point (96.00, 114.00, 81.28)\n",
    "#    View Up (0.00, 1.00, 0.00)\n",
    "\n",
    "for tract in collosal:\n",
    "    \n",
    "    scene = window.Scene()\n",
    "    scene.add(bundle_dict[tract]['bundle_actor'])\n",
    "\n",
    "    for slicer in slicers_z:\n",
    "        scene.add(slicer)\n",
    "        \n",
    "    scene.set_camera(position=(96.00, 114.00, 599.59),\n",
    "                 focal_point=(96.00, 114.00, 81.28),\n",
    "                 view_up=(0, 0, 1))\n",
    "    \n",
    "    file_name = f'../figures/{tract}_plot.png'\n",
    "    window.record(scene, out_path=file_name, size=(2400, 2400))\n",
    "\n",
    "\n"
   ]
  },
  {
   "cell_type": "code",
   "execution_count": 26,
   "id": "c914da63",
   "metadata": {},
   "outputs": [],
   "source": [
    "# ## All bundles\n",
    "scene = window.Scene()\n",
    "\n",
    "for tract in bundle_dict.keys():\n",
    "    \n",
    "    scene.add(bundle_dict[tract]['bundle_actor'])\n",
    "\n",
    "for slicer in slicers_z:\n",
    "    scene.add(slicer)"
   ]
  },
  {
   "cell_type": "code",
   "execution_count": 17,
   "id": "d449b6d6",
   "metadata": {},
   "outputs": [
    {
     "ename": "NameError",
     "evalue": "name 'sig_bundles' is not defined",
     "output_type": "error",
     "traceback": [
      "\u001b[0;31m---------------------------------------------------------------------------\u001b[0m",
      "\u001b[0;31mNameError\u001b[0m                                 Traceback (most recent call last)",
      "Cell \u001b[0;32mIn[17], line 6\u001b[0m\n\u001b[1;32m      2\u001b[0m scene \u001b[38;5;241m=\u001b[39m window\u001b[38;5;241m.\u001b[39mScene()\n\u001b[1;32m      4\u001b[0m \u001b[38;5;28;01mfor\u001b[39;00m tract \u001b[38;5;129;01min\u001b[39;00m bundle_dict\u001b[38;5;241m.\u001b[39mkeys():\n\u001b[0;32m----> 6\u001b[0m     \u001b[38;5;28;01mif\u001b[39;00m tract \u001b[38;5;129;01min\u001b[39;00m \u001b[43msig_bundles\u001b[49m:\n\u001b[1;32m      7\u001b[0m         scene\u001b[38;5;241m.\u001b[39madd(bundle_dict[tract][\u001b[38;5;124m'\u001b[39m\u001b[38;5;124mbundle_actor\u001b[39m\u001b[38;5;124m'\u001b[39m])\n\u001b[1;32m      9\u001b[0m \u001b[38;5;28;01mfor\u001b[39;00m slicer \u001b[38;5;129;01min\u001b[39;00m slicers:\n",
      "\u001b[0;31mNameError\u001b[0m: name 'sig_bundles' is not defined"
     ]
    }
   ],
   "source": [
    "## Significant bundles\n",
    "# scene = window.Scene()\n",
    "\n",
    "# for tract in bundle_dict.keys():\n",
    "    \n",
    "#     if tract in sig_bundles:\n",
    "#         scene.add(bundle_dict[tract]['bundle_actor'])\n",
    "\n",
    "# for slicer in slicers:\n",
    "#     scene.add(slicer)"
   ]
  },
  {
   "cell_type": "code",
   "execution_count": 27,
   "id": "0f55c218",
   "metadata": {},
   "outputs": [],
   "source": [
    "window.show(scene, size=(1200, 1200), reset_camera=False)\n"
   ]
  },
  {
   "cell_type": "code",
   "execution_count": 32,
   "id": "002cd89e",
   "metadata": {},
   "outputs": [
    {
     "name": "stdout",
     "output_type": "stream",
     "text": [
      "# Active Camera\n",
      "   Position (96.00, 114.00, 599.59)\n",
      "   Focal Point (96.00, 114.00, 81.28)\n",
      "   View Up (0.00, 1.00, 0.00)\n"
     ]
    }
   ],
   "source": [
    "scene.camera_info()\n"
   ]
  },
  {
   "cell_type": "code",
   "execution_count": 52,
   "id": "9ad5d2b0",
   "metadata": {},
   "outputs": [],
   "source": [
    "scene.set_camera(position=(-420.74, 148.69, 64.97),\n",
    "                 focal_point=(96.32, 114.00, 96.00),\n",
    "                 view_up=(-0.06, -0.02, 1.00)"
   ]
  },
  {
   "cell_type": "code",
   "execution_count": 18,
   "id": "750dbdb1",
   "metadata": {},
   "outputs": [],
   "source": [
    "window.record(scene, out_path='../figures/test_all.png', size=(2400, 2400))"
   ]
  },
  {
   "cell_type": "code",
   "execution_count": 65,
   "id": "ab302217",
   "metadata": {},
   "outputs": [],
   "source": [
    "# corr_color_map = create_colormap(np.array(mean_corr_df['corr']), 'viridis')\n",
    "\n",
    "corr_color_map = create_colormap(np.array(model_output_df['neg_log10p_adj']), 'viridis')\n"
   ]
  },
  {
   "cell_type": "code",
   "execution_count": 54,
   "id": "40c35304",
   "metadata": {},
   "outputs": [
    {
     "data": {
      "image/png": "[encoded data removed]",
      "text/plain": [
       "<Figure size 640x480 with 2 Axes>"
      ]
     },
     "metadata": {},
     "output_type": "display_data"
    }
   ],
   "source": [
    "# plt.style.use('dark_background')\n",
    "# sc = plt.scatter(np.array(mean_corr_df['corr']),\n",
    "#                  np.array(mean_corr_df['corr']),\n",
    "#                  c=np.array(mean_corr_df['corr']), vmin=0, vmax=.1, s=35, cmap='viridis')\n",
    "# plt.colorbar(sc)\n",
    "# plt.show()\n",
    "\n",
    "plt.style.use('dark_background')\n",
    "sc = plt.scatter(np.array(model_output_df[model_output_df.predictor=='led_sch_seda_s_mn_avg_eb']['neg_log10p_adj']),\n",
    "                 np.array(model_output_df[model_output_df.predictor=='led_sch_seda_s_mn_avg_eb']['neg_log10p_adj']),\n",
    "                 c=np.array(model_output_df[model_output_df.predictor=='led_sch_seda_s_mn_avg_eb']['neg_log10p_adj']), vmin=0, vmax=4, s=35, cmap='viridis')\n",
    "plt.colorbar(sc)\n",
    "plt.show()"
   ]
  },
  {
   "cell_type": "markdown",
   "id": "be21767b",
   "metadata": {},
   "source": [
    "## Create Bundle Montage"
   ]
  },
  {
   "cell_type": "code",
   "execution_count": 3,
   "id": "2ea5d062",
   "metadata": {},
   "outputs": [],
   "source": [
    "from PIL import Image, ImageDraw, ImageFont\n",
    "import numpy as np\n",
    "from glob import glob"
   ]
  },
  {
   "cell_type": "code",
   "execution_count": 4,
   "id": "33a664e8",
   "metadata": {},
   "outputs": [],
   "source": [
    "bundle_order = [\"VOFR\",\"pARCR\",\"ARCR\",\"ATRR\",\"CSTR\",\"IFOR\",\"ILFR\",\"SLFR\",\"UNCR\",\"CGCR\",\n",
    "                \"Orbital\", \"AntFrontal\", \"SupFrontal\", \"Motor\",\"SupParietal\", \"PostParietal\", \"Temporal\", \"Occipital\",\n",
    "                \"CGCL\",\"UNCL\",\"SLFL\",\"ILFL\",\"IFOL\",\"CSTL\",\"ATRL\",\"ARCL\",\"pARCL\",\"VOFL\"]"
   ]
  },
  {
   "cell_type": "code",
   "execution_count": 5,
   "id": "2813036e",
   "metadata": {},
   "outputs": [
    {
     "name": "stdout",
     "output_type": "stream",
     "text": [
      "['VOFR', 'pARCR', 'ARCR', 'ATRR', 'CSTR', 'IFOR', 'ILFR', 'SLFR', 'UNCR', 'CGCR', 'Orbital', 'AntFrontal', 'SupFrontal', 'Motor', 'SupParietal', 'PostParietal', 'Temporal', 'Occipital', 'CGCL', 'UNCL', 'SLFL', 'ILFL', 'IFOL', 'CSTL', 'ATRL', 'ARCL', 'pARCL', 'VOFL']\n"
     ]
    }
   ],
   "source": [
    "# Define a custom key function\n",
    "def custom_key(item):\n",
    "    # Find the first substring from sorting_substrings that appears in the item\n",
    "    for substring in bundle_order:\n",
    "        if substring in item:\n",
    "            return bundle_order.index(substring)\n",
    "    # If none of the substrings are found, return a default value\n",
    "    return len(bundle_order)\n",
    "\n",
    "# Sort the main_list based on the custom key function\n",
    "\n",
    "# Print the sorted list\n",
    "print(bundle_order)"
   ]
  },
  {
   "cell_type": "code",
   "execution_count": 9,
   "id": "112fe35a",
   "metadata": {},
   "outputs": [
    {
     "name": "stdout",
     "output_type": "stream",
     "text": [
      "../figures/VOFR_plot.png Right Vertical Occipital Fasciculus (VOF_R)\n",
      "../figures/pARCR_plot.png Right Posterior Arcuate (pARC_R)\n"
     ]
    },
    {
     "name": "stderr",
     "output_type": "stream",
     "text": [
      "/var/folders/5s/p7n2md3n27s89lm6qbs7996c0000gn/T/ipykernel_92997/3032877010.py:61: DeprecationWarning: textsize is deprecated and will be removed in Pillow 10 (2023-07-01). Use textbbox or textlength instead.\n",
      "  test_width, _ = draw.textsize(test_line, font=font)\n",
      "/var/folders/5s/p7n2md3n27s89lm6qbs7996c0000gn/T/ipykernel_92997/3032877010.py:61: DeprecationWarning: textsize is deprecated and will be removed in Pillow 10 (2023-07-01). Use textbbox or textlength instead.\n",
      "  test_width, _ = draw.textsize(test_line, font=font)\n",
      "/var/folders/5s/p7n2md3n27s89lm6qbs7996c0000gn/T/ipykernel_92997/3032877010.py:61: DeprecationWarning: textsize is deprecated and will be removed in Pillow 10 (2023-07-01). Use textbbox or textlength instead.\n",
      "  test_width, _ = draw.textsize(test_line, font=font)\n",
      "/var/folders/5s/p7n2md3n27s89lm6qbs7996c0000gn/T/ipykernel_92997/3032877010.py:61: DeprecationWarning: textsize is deprecated and will be removed in Pillow 10 (2023-07-01). Use textbbox or textlength instead.\n",
      "  test_width, _ = draw.textsize(test_line, font=font)\n",
      "/var/folders/5s/p7n2md3n27s89lm6qbs7996c0000gn/T/ipykernel_92997/3032877010.py:61: DeprecationWarning: textsize is deprecated and will be removed in Pillow 10 (2023-07-01). Use textbbox or textlength instead.\n",
      "  test_width, _ = draw.textsize(test_line, font=font)\n",
      "/var/folders/5s/p7n2md3n27s89lm6qbs7996c0000gn/T/ipykernel_92997/3032877010.py:61: DeprecationWarning: textsize is deprecated and will be removed in Pillow 10 (2023-07-01). Use textbbox or textlength instead.\n",
      "  test_width, _ = draw.textsize(test_line, font=font)\n",
      "/var/folders/5s/p7n2md3n27s89lm6qbs7996c0000gn/T/ipykernel_92997/3032877010.py:61: DeprecationWarning: textsize is deprecated and will be removed in Pillow 10 (2023-07-01). Use textbbox or textlength instead.\n",
      "  test_width, _ = draw.textsize(test_line, font=font)\n",
      "/var/folders/5s/p7n2md3n27s89lm6qbs7996c0000gn/T/ipykernel_92997/3032877010.py:61: DeprecationWarning: textsize is deprecated and will be removed in Pillow 10 (2023-07-01). Use textbbox or textlength instead.\n",
      "  test_width, _ = draw.textsize(test_line, font=font)\n",
      "/var/folders/5s/p7n2md3n27s89lm6qbs7996c0000gn/T/ipykernel_92997/3032877010.py:61: DeprecationWarning: textsize is deprecated and will be removed in Pillow 10 (2023-07-01). Use textbbox or textlength instead.\n",
      "  test_width, _ = draw.textsize(test_line, font=font)\n"
     ]
    },
    {
     "name": "stdout",
     "output_type": "stream",
     "text": [
      "../figures/ARCR_plot.png Right Arcuate (ARC_R)\n",
      "../figures/ATRR_plot.png Right Thalamic Radiation (ATR_R)\n"
     ]
    },
    {
     "name": "stderr",
     "output_type": "stream",
     "text": [
      "/var/folders/5s/p7n2md3n27s89lm6qbs7996c0000gn/T/ipykernel_92997/3032877010.py:61: DeprecationWarning: textsize is deprecated and will be removed in Pillow 10 (2023-07-01). Use textbbox or textlength instead.\n",
      "  test_width, _ = draw.textsize(test_line, font=font)\n",
      "/var/folders/5s/p7n2md3n27s89lm6qbs7996c0000gn/T/ipykernel_92997/3032877010.py:61: DeprecationWarning: textsize is deprecated and will be removed in Pillow 10 (2023-07-01). Use textbbox or textlength instead.\n",
      "  test_width, _ = draw.textsize(test_line, font=font)\n",
      "/var/folders/5s/p7n2md3n27s89lm6qbs7996c0000gn/T/ipykernel_92997/3032877010.py:61: DeprecationWarning: textsize is deprecated and will be removed in Pillow 10 (2023-07-01). Use textbbox or textlength instead.\n",
      "  test_width, _ = draw.textsize(test_line, font=font)\n",
      "/var/folders/5s/p7n2md3n27s89lm6qbs7996c0000gn/T/ipykernel_92997/3032877010.py:61: DeprecationWarning: textsize is deprecated and will be removed in Pillow 10 (2023-07-01). Use textbbox or textlength instead.\n",
      "  test_width, _ = draw.textsize(test_line, font=font)\n",
      "/var/folders/5s/p7n2md3n27s89lm6qbs7996c0000gn/T/ipykernel_92997/3032877010.py:61: DeprecationWarning: textsize is deprecated and will be removed in Pillow 10 (2023-07-01). Use textbbox or textlength instead.\n",
      "  test_width, _ = draw.textsize(test_line, font=font)\n",
      "/var/folders/5s/p7n2md3n27s89lm6qbs7996c0000gn/T/ipykernel_92997/3032877010.py:61: DeprecationWarning: textsize is deprecated and will be removed in Pillow 10 (2023-07-01). Use textbbox or textlength instead.\n",
      "  test_width, _ = draw.textsize(test_line, font=font)\n",
      "/var/folders/5s/p7n2md3n27s89lm6qbs7996c0000gn/T/ipykernel_92997/3032877010.py:61: DeprecationWarning: textsize is deprecated and will be removed in Pillow 10 (2023-07-01). Use textbbox or textlength instead.\n",
      "  test_width, _ = draw.textsize(test_line, font=font)\n",
      "/var/folders/5s/p7n2md3n27s89lm6qbs7996c0000gn/T/ipykernel_92997/3032877010.py:61: DeprecationWarning: textsize is deprecated and will be removed in Pillow 10 (2023-07-01). Use textbbox or textlength instead.\n",
      "  test_width, _ = draw.textsize(test_line, font=font)\n",
      "/var/folders/5s/p7n2md3n27s89lm6qbs7996c0000gn/T/ipykernel_92997/3032877010.py:61: DeprecationWarning: textsize is deprecated and will be removed in Pillow 10 (2023-07-01). Use textbbox or textlength instead.\n",
      "  test_width, _ = draw.textsize(test_line, font=font)\n",
      "/var/folders/5s/p7n2md3n27s89lm6qbs7996c0000gn/T/ipykernel_92997/3032877010.py:61: DeprecationWarning: textsize is deprecated and will be removed in Pillow 10 (2023-07-01). Use textbbox or textlength instead.\n",
      "  test_width, _ = draw.textsize(test_line, font=font)\n"
     ]
    },
    {
     "name": "stdout",
     "output_type": "stream",
     "text": [
      "../figures/CSTR_plot.png Right Corticospinal (CST_R)\n",
      "../figures/IFOR_plot.png Right IFOF (IFOF_R)\n"
     ]
    },
    {
     "name": "stderr",
     "output_type": "stream",
     "text": [
      "/var/folders/5s/p7n2md3n27s89lm6qbs7996c0000gn/T/ipykernel_92997/3032877010.py:61: DeprecationWarning: textsize is deprecated and will be removed in Pillow 10 (2023-07-01). Use textbbox or textlength instead.\n",
      "  test_width, _ = draw.textsize(test_line, font=font)\n",
      "/var/folders/5s/p7n2md3n27s89lm6qbs7996c0000gn/T/ipykernel_92997/3032877010.py:61: DeprecationWarning: textsize is deprecated and will be removed in Pillow 10 (2023-07-01). Use textbbox or textlength instead.\n",
      "  test_width, _ = draw.textsize(test_line, font=font)\n",
      "/var/folders/5s/p7n2md3n27s89lm6qbs7996c0000gn/T/ipykernel_92997/3032877010.py:61: DeprecationWarning: textsize is deprecated and will be removed in Pillow 10 (2023-07-01). Use textbbox or textlength instead.\n",
      "  test_width, _ = draw.textsize(test_line, font=font)\n",
      "/var/folders/5s/p7n2md3n27s89lm6qbs7996c0000gn/T/ipykernel_92997/3032877010.py:61: DeprecationWarning: textsize is deprecated and will be removed in Pillow 10 (2023-07-01). Use textbbox or textlength instead.\n",
      "  test_width, _ = draw.textsize(test_line, font=font)\n",
      "/var/folders/5s/p7n2md3n27s89lm6qbs7996c0000gn/T/ipykernel_92997/3032877010.py:61: DeprecationWarning: textsize is deprecated and will be removed in Pillow 10 (2023-07-01). Use textbbox or textlength instead.\n",
      "  test_width, _ = draw.textsize(test_line, font=font)\n",
      "/var/folders/5s/p7n2md3n27s89lm6qbs7996c0000gn/T/ipykernel_92997/3032877010.py:61: DeprecationWarning: textsize is deprecated and will be removed in Pillow 10 (2023-07-01). Use textbbox or textlength instead.\n",
      "  test_width, _ = draw.textsize(test_line, font=font)\n"
     ]
    },
    {
     "name": "stdout",
     "output_type": "stream",
     "text": [
      "../figures/ILFR_plot.png Right ILF (ILF_R)\n",
      "../figures/SLFR_plot.png Right SLF (SLF_R)\n"
     ]
    },
    {
     "name": "stderr",
     "output_type": "stream",
     "text": [
      "/var/folders/5s/p7n2md3n27s89lm6qbs7996c0000gn/T/ipykernel_92997/3032877010.py:61: DeprecationWarning: textsize is deprecated and will be removed in Pillow 10 (2023-07-01). Use textbbox or textlength instead.\n",
      "  test_width, _ = draw.textsize(test_line, font=font)\n",
      "/var/folders/5s/p7n2md3n27s89lm6qbs7996c0000gn/T/ipykernel_92997/3032877010.py:61: DeprecationWarning: textsize is deprecated and will be removed in Pillow 10 (2023-07-01). Use textbbox or textlength instead.\n",
      "  test_width, _ = draw.textsize(test_line, font=font)\n",
      "/var/folders/5s/p7n2md3n27s89lm6qbs7996c0000gn/T/ipykernel_92997/3032877010.py:61: DeprecationWarning: textsize is deprecated and will be removed in Pillow 10 (2023-07-01). Use textbbox or textlength instead.\n",
      "  test_width, _ = draw.textsize(test_line, font=font)\n",
      "/var/folders/5s/p7n2md3n27s89lm6qbs7996c0000gn/T/ipykernel_92997/3032877010.py:61: DeprecationWarning: textsize is deprecated and will be removed in Pillow 10 (2023-07-01). Use textbbox or textlength instead.\n",
      "  test_width, _ = draw.textsize(test_line, font=font)\n",
      "/var/folders/5s/p7n2md3n27s89lm6qbs7996c0000gn/T/ipykernel_92997/3032877010.py:61: DeprecationWarning: textsize is deprecated and will be removed in Pillow 10 (2023-07-01). Use textbbox or textlength instead.\n",
      "  test_width, _ = draw.textsize(test_line, font=font)\n",
      "/var/folders/5s/p7n2md3n27s89lm6qbs7996c0000gn/T/ipykernel_92997/3032877010.py:61: DeprecationWarning: textsize is deprecated and will be removed in Pillow 10 (2023-07-01). Use textbbox or textlength instead.\n",
      "  test_width, _ = draw.textsize(test_line, font=font)\n"
     ]
    },
    {
     "name": "stdout",
     "output_type": "stream",
     "text": [
      "../figures/UNCR_plot.png Right Uncinate (UNC_R)\n",
      "../figures/CGCR_plot.png Right Cingulum Cingulate (CGC_R)\n"
     ]
    },
    {
     "name": "stderr",
     "output_type": "stream",
     "text": [
      "/var/folders/5s/p7n2md3n27s89lm6qbs7996c0000gn/T/ipykernel_92997/3032877010.py:61: DeprecationWarning: textsize is deprecated and will be removed in Pillow 10 (2023-07-01). Use textbbox or textlength instead.\n",
      "  test_width, _ = draw.textsize(test_line, font=font)\n",
      "/var/folders/5s/p7n2md3n27s89lm6qbs7996c0000gn/T/ipykernel_92997/3032877010.py:61: DeprecationWarning: textsize is deprecated and will be removed in Pillow 10 (2023-07-01). Use textbbox or textlength instead.\n",
      "  test_width, _ = draw.textsize(test_line, font=font)\n",
      "/var/folders/5s/p7n2md3n27s89lm6qbs7996c0000gn/T/ipykernel_92997/3032877010.py:61: DeprecationWarning: textsize is deprecated and will be removed in Pillow 10 (2023-07-01). Use textbbox or textlength instead.\n",
      "  test_width, _ = draw.textsize(test_line, font=font)\n",
      "/var/folders/5s/p7n2md3n27s89lm6qbs7996c0000gn/T/ipykernel_92997/3032877010.py:61: DeprecationWarning: textsize is deprecated and will be removed in Pillow 10 (2023-07-01). Use textbbox or textlength instead.\n",
      "  test_width, _ = draw.textsize(test_line, font=font)\n",
      "/var/folders/5s/p7n2md3n27s89lm6qbs7996c0000gn/T/ipykernel_92997/3032877010.py:61: DeprecationWarning: textsize is deprecated and will be removed in Pillow 10 (2023-07-01). Use textbbox or textlength instead.\n",
      "  test_width, _ = draw.textsize(test_line, font=font)\n",
      "/var/folders/5s/p7n2md3n27s89lm6qbs7996c0000gn/T/ipykernel_92997/3032877010.py:61: DeprecationWarning: textsize is deprecated and will be removed in Pillow 10 (2023-07-01). Use textbbox or textlength instead.\n",
      "  test_width, _ = draw.textsize(test_line, font=font)\n"
     ]
    },
    {
     "name": "stdout",
     "output_type": "stream",
     "text": [
      "../figures/Orbital_plot.png Orbital\n",
      "../figures/AntFrontal_plot.png AntFrontal\n",
      "../figures/SupFrontal_plot.png Superior Frontal (SupFrontal)\n"
     ]
    },
    {
     "name": "stderr",
     "output_type": "stream",
     "text": [
      "/var/folders/5s/p7n2md3n27s89lm6qbs7996c0000gn/T/ipykernel_92997/3032877010.py:61: DeprecationWarning: textsize is deprecated and will be removed in Pillow 10 (2023-07-01). Use textbbox or textlength instead.\n",
      "  test_width, _ = draw.textsize(test_line, font=font)\n",
      "/var/folders/5s/p7n2md3n27s89lm6qbs7996c0000gn/T/ipykernel_92997/3032877010.py:61: DeprecationWarning: textsize is deprecated and will be removed in Pillow 10 (2023-07-01). Use textbbox or textlength instead.\n",
      "  test_width, _ = draw.textsize(test_line, font=font)\n",
      "/var/folders/5s/p7n2md3n27s89lm6qbs7996c0000gn/T/ipykernel_92997/3032877010.py:61: DeprecationWarning: textsize is deprecated and will be removed in Pillow 10 (2023-07-01). Use textbbox or textlength instead.\n",
      "  test_width, _ = draw.textsize(test_line, font=font)\n",
      "/var/folders/5s/p7n2md3n27s89lm6qbs7996c0000gn/T/ipykernel_92997/3032877010.py:61: DeprecationWarning: textsize is deprecated and will be removed in Pillow 10 (2023-07-01). Use textbbox or textlength instead.\n",
      "  test_width, _ = draw.textsize(test_line, font=font)\n",
      "/var/folders/5s/p7n2md3n27s89lm6qbs7996c0000gn/T/ipykernel_92997/3032877010.py:61: DeprecationWarning: textsize is deprecated and will be removed in Pillow 10 (2023-07-01). Use textbbox or textlength instead.\n",
      "  test_width, _ = draw.textsize(test_line, font=font)\n",
      "/var/folders/5s/p7n2md3n27s89lm6qbs7996c0000gn/T/ipykernel_92997/3032877010.py:61: DeprecationWarning: textsize is deprecated and will be removed in Pillow 10 (2023-07-01). Use textbbox or textlength instead.\n",
      "  test_width, _ = draw.textsize(test_line, font=font)\n",
      "/var/folders/5s/p7n2md3n27s89lm6qbs7996c0000gn/T/ipykernel_92997/3032877010.py:61: DeprecationWarning: textsize is deprecated and will be removed in Pillow 10 (2023-07-01). Use textbbox or textlength instead.\n",
      "  test_width, _ = draw.textsize(test_line, font=font)\n"
     ]
    },
    {
     "name": "stdout",
     "output_type": "stream",
     "text": [
      "../figures/Motor_plot.png Motor\n",
      "../figures/SupParietal_plot.png Superior Parietal (SupParietal)\n",
      "../figures/PostParietal_plot.png Post Parietal\n"
     ]
    },
    {
     "name": "stderr",
     "output_type": "stream",
     "text": [
      "/var/folders/5s/p7n2md3n27s89lm6qbs7996c0000gn/T/ipykernel_92997/3032877010.py:61: DeprecationWarning: textsize is deprecated and will be removed in Pillow 10 (2023-07-01). Use textbbox or textlength instead.\n",
      "  test_width, _ = draw.textsize(test_line, font=font)\n",
      "/var/folders/5s/p7n2md3n27s89lm6qbs7996c0000gn/T/ipykernel_92997/3032877010.py:61: DeprecationWarning: textsize is deprecated and will be removed in Pillow 10 (2023-07-01). Use textbbox or textlength instead.\n",
      "  test_width, _ = draw.textsize(test_line, font=font)\n",
      "/var/folders/5s/p7n2md3n27s89lm6qbs7996c0000gn/T/ipykernel_92997/3032877010.py:61: DeprecationWarning: textsize is deprecated and will be removed in Pillow 10 (2023-07-01). Use textbbox or textlength instead.\n",
      "  test_width, _ = draw.textsize(test_line, font=font)\n",
      "/var/folders/5s/p7n2md3n27s89lm6qbs7996c0000gn/T/ipykernel_92997/3032877010.py:61: DeprecationWarning: textsize is deprecated and will be removed in Pillow 10 (2023-07-01). Use textbbox or textlength instead.\n",
      "  test_width, _ = draw.textsize(test_line, font=font)\n"
     ]
    },
    {
     "name": "stdout",
     "output_type": "stream",
     "text": [
      "../figures/Temporal_plot.png Temporal\n",
      "../figures/Occipital_plot.png Occipital\n",
      "../figures/CGCL_plot.png Left Cingulum Cingulate (CGC_L)\n"
     ]
    },
    {
     "name": "stderr",
     "output_type": "stream",
     "text": [
      "/var/folders/5s/p7n2md3n27s89lm6qbs7996c0000gn/T/ipykernel_92997/3032877010.py:61: DeprecationWarning: textsize is deprecated and will be removed in Pillow 10 (2023-07-01). Use textbbox or textlength instead.\n",
      "  test_width, _ = draw.textsize(test_line, font=font)\n",
      "/var/folders/5s/p7n2md3n27s89lm6qbs7996c0000gn/T/ipykernel_92997/3032877010.py:61: DeprecationWarning: textsize is deprecated and will be removed in Pillow 10 (2023-07-01). Use textbbox or textlength instead.\n",
      "  test_width, _ = draw.textsize(test_line, font=font)\n",
      "/var/folders/5s/p7n2md3n27s89lm6qbs7996c0000gn/T/ipykernel_92997/3032877010.py:61: DeprecationWarning: textsize is deprecated and will be removed in Pillow 10 (2023-07-01). Use textbbox or textlength instead.\n",
      "  test_width, _ = draw.textsize(test_line, font=font)\n",
      "/var/folders/5s/p7n2md3n27s89lm6qbs7996c0000gn/T/ipykernel_92997/3032877010.py:61: DeprecationWarning: textsize is deprecated and will be removed in Pillow 10 (2023-07-01). Use textbbox or textlength instead.\n",
      "  test_width, _ = draw.textsize(test_line, font=font)\n",
      "/var/folders/5s/p7n2md3n27s89lm6qbs7996c0000gn/T/ipykernel_92997/3032877010.py:61: DeprecationWarning: textsize is deprecated and will be removed in Pillow 10 (2023-07-01). Use textbbox or textlength instead.\n",
      "  test_width, _ = draw.textsize(test_line, font=font)\n",
      "/var/folders/5s/p7n2md3n27s89lm6qbs7996c0000gn/T/ipykernel_92997/3032877010.py:61: DeprecationWarning: textsize is deprecated and will be removed in Pillow 10 (2023-07-01). Use textbbox or textlength instead.\n",
      "  test_width, _ = draw.textsize(test_line, font=font)\n",
      "/var/folders/5s/p7n2md3n27s89lm6qbs7996c0000gn/T/ipykernel_92997/3032877010.py:61: DeprecationWarning: textsize is deprecated and will be removed in Pillow 10 (2023-07-01). Use textbbox or textlength instead.\n",
      "  test_width, _ = draw.textsize(test_line, font=font)\n"
     ]
    },
    {
     "name": "stdout",
     "output_type": "stream",
     "text": [
      "../figures/UNCL_plot.png Left Uncinate (UNC_L)\n",
      "../figures/SLFL_plot.png Left SLF (SLF_L)\n"
     ]
    },
    {
     "name": "stderr",
     "output_type": "stream",
     "text": [
      "/var/folders/5s/p7n2md3n27s89lm6qbs7996c0000gn/T/ipykernel_92997/3032877010.py:61: DeprecationWarning: textsize is deprecated and will be removed in Pillow 10 (2023-07-01). Use textbbox or textlength instead.\n",
      "  test_width, _ = draw.textsize(test_line, font=font)\n",
      "/var/folders/5s/p7n2md3n27s89lm6qbs7996c0000gn/T/ipykernel_92997/3032877010.py:61: DeprecationWarning: textsize is deprecated and will be removed in Pillow 10 (2023-07-01). Use textbbox or textlength instead.\n",
      "  test_width, _ = draw.textsize(test_line, font=font)\n",
      "/var/folders/5s/p7n2md3n27s89lm6qbs7996c0000gn/T/ipykernel_92997/3032877010.py:61: DeprecationWarning: textsize is deprecated and will be removed in Pillow 10 (2023-07-01). Use textbbox or textlength instead.\n",
      "  test_width, _ = draw.textsize(test_line, font=font)\n",
      "/var/folders/5s/p7n2md3n27s89lm6qbs7996c0000gn/T/ipykernel_92997/3032877010.py:61: DeprecationWarning: textsize is deprecated and will be removed in Pillow 10 (2023-07-01). Use textbbox or textlength instead.\n",
      "  test_width, _ = draw.textsize(test_line, font=font)\n",
      "/var/folders/5s/p7n2md3n27s89lm6qbs7996c0000gn/T/ipykernel_92997/3032877010.py:61: DeprecationWarning: textsize is deprecated and will be removed in Pillow 10 (2023-07-01). Use textbbox or textlength instead.\n",
      "  test_width, _ = draw.textsize(test_line, font=font)\n",
      "/var/folders/5s/p7n2md3n27s89lm6qbs7996c0000gn/T/ipykernel_92997/3032877010.py:61: DeprecationWarning: textsize is deprecated and will be removed in Pillow 10 (2023-07-01). Use textbbox or textlength instead.\n",
      "  test_width, _ = draw.textsize(test_line, font=font)\n",
      "/var/folders/5s/p7n2md3n27s89lm6qbs7996c0000gn/T/ipykernel_92997/3032877010.py:61: DeprecationWarning: textsize is deprecated and will be removed in Pillow 10 (2023-07-01). Use textbbox or textlength instead.\n",
      "  test_width, _ = draw.textsize(test_line, font=font)\n",
      "/var/folders/5s/p7n2md3n27s89lm6qbs7996c0000gn/T/ipykernel_92997/3032877010.py:61: DeprecationWarning: textsize is deprecated and will be removed in Pillow 10 (2023-07-01). Use textbbox or textlength instead.\n",
      "  test_width, _ = draw.textsize(test_line, font=font)\n",
      "/var/folders/5s/p7n2md3n27s89lm6qbs7996c0000gn/T/ipykernel_92997/3032877010.py:61: DeprecationWarning: textsize is deprecated and will be removed in Pillow 10 (2023-07-01). Use textbbox or textlength instead.\n",
      "  test_width, _ = draw.textsize(test_line, font=font)\n"
     ]
    },
    {
     "name": "stdout",
     "output_type": "stream",
     "text": [
      "../figures/ILFL_plot.png Left ILF (ILF_L)\n",
      "../figures/IFOL_plot.png Left IFOF (IFOF_L)\n",
      "../figures/CSTL_plot.png Left Corticospinal (CST_L)\n"
     ]
    },
    {
     "name": "stderr",
     "output_type": "stream",
     "text": [
      "/var/folders/5s/p7n2md3n27s89lm6qbs7996c0000gn/T/ipykernel_92997/3032877010.py:61: DeprecationWarning: textsize is deprecated and will be removed in Pillow 10 (2023-07-01). Use textbbox or textlength instead.\n",
      "  test_width, _ = draw.textsize(test_line, font=font)\n",
      "/var/folders/5s/p7n2md3n27s89lm6qbs7996c0000gn/T/ipykernel_92997/3032877010.py:61: DeprecationWarning: textsize is deprecated and will be removed in Pillow 10 (2023-07-01). Use textbbox or textlength instead.\n",
      "  test_width, _ = draw.textsize(test_line, font=font)\n",
      "/var/folders/5s/p7n2md3n27s89lm6qbs7996c0000gn/T/ipykernel_92997/3032877010.py:61: DeprecationWarning: textsize is deprecated and will be removed in Pillow 10 (2023-07-01). Use textbbox or textlength instead.\n",
      "  test_width, _ = draw.textsize(test_line, font=font)\n",
      "/var/folders/5s/p7n2md3n27s89lm6qbs7996c0000gn/T/ipykernel_92997/3032877010.py:61: DeprecationWarning: textsize is deprecated and will be removed in Pillow 10 (2023-07-01). Use textbbox or textlength instead.\n",
      "  test_width, _ = draw.textsize(test_line, font=font)\n",
      "/var/folders/5s/p7n2md3n27s89lm6qbs7996c0000gn/T/ipykernel_92997/3032877010.py:61: DeprecationWarning: textsize is deprecated and will be removed in Pillow 10 (2023-07-01). Use textbbox or textlength instead.\n",
      "  test_width, _ = draw.textsize(test_line, font=font)\n",
      "/var/folders/5s/p7n2md3n27s89lm6qbs7996c0000gn/T/ipykernel_92997/3032877010.py:61: DeprecationWarning: textsize is deprecated and will be removed in Pillow 10 (2023-07-01). Use textbbox or textlength instead.\n",
      "  test_width, _ = draw.textsize(test_line, font=font)\n",
      "/var/folders/5s/p7n2md3n27s89lm6qbs7996c0000gn/T/ipykernel_92997/3032877010.py:61: DeprecationWarning: textsize is deprecated and will be removed in Pillow 10 (2023-07-01). Use textbbox or textlength instead.\n",
      "  test_width, _ = draw.textsize(test_line, font=font)\n",
      "/var/folders/5s/p7n2md3n27s89lm6qbs7996c0000gn/T/ipykernel_92997/3032877010.py:61: DeprecationWarning: textsize is deprecated and will be removed in Pillow 10 (2023-07-01). Use textbbox or textlength instead.\n",
      "  test_width, _ = draw.textsize(test_line, font=font)\n",
      "/var/folders/5s/p7n2md3n27s89lm6qbs7996c0000gn/T/ipykernel_92997/3032877010.py:61: DeprecationWarning: textsize is deprecated and will be removed in Pillow 10 (2023-07-01). Use textbbox or textlength instead.\n",
      "  test_width, _ = draw.textsize(test_line, font=font)\n",
      "/var/folders/5s/p7n2md3n27s89lm6qbs7996c0000gn/T/ipykernel_92997/3032877010.py:61: DeprecationWarning: textsize is deprecated and will be removed in Pillow 10 (2023-07-01). Use textbbox or textlength instead.\n",
      "  test_width, _ = draw.textsize(test_line, font=font)\n"
     ]
    },
    {
     "name": "stdout",
     "output_type": "stream",
     "text": [
      "../figures/ATRL_plot.png Left Thalamic Radiation (ATR_L)\n",
      "../figures/ARCL_plot.png Left Arcuate (ARC_L)\n",
      "../figures/pARCL_plot.png Left Posterior Arcuate (pARC_L)\n"
     ]
    },
    {
     "name": "stderr",
     "output_type": "stream",
     "text": [
      "/var/folders/5s/p7n2md3n27s89lm6qbs7996c0000gn/T/ipykernel_92997/3032877010.py:61: DeprecationWarning: textsize is deprecated and will be removed in Pillow 10 (2023-07-01). Use textbbox or textlength instead.\n",
      "  test_width, _ = draw.textsize(test_line, font=font)\n",
      "/var/folders/5s/p7n2md3n27s89lm6qbs7996c0000gn/T/ipykernel_92997/3032877010.py:61: DeprecationWarning: textsize is deprecated and will be removed in Pillow 10 (2023-07-01). Use textbbox or textlength instead.\n",
      "  test_width, _ = draw.textsize(test_line, font=font)\n",
      "/var/folders/5s/p7n2md3n27s89lm6qbs7996c0000gn/T/ipykernel_92997/3032877010.py:61: DeprecationWarning: textsize is deprecated and will be removed in Pillow 10 (2023-07-01). Use textbbox or textlength instead.\n",
      "  test_width, _ = draw.textsize(test_line, font=font)\n",
      "/var/folders/5s/p7n2md3n27s89lm6qbs7996c0000gn/T/ipykernel_92997/3032877010.py:61: DeprecationWarning: textsize is deprecated and will be removed in Pillow 10 (2023-07-01). Use textbbox or textlength instead.\n",
      "  test_width, _ = draw.textsize(test_line, font=font)\n",
      "/var/folders/5s/p7n2md3n27s89lm6qbs7996c0000gn/T/ipykernel_92997/3032877010.py:61: DeprecationWarning: textsize is deprecated and will be removed in Pillow 10 (2023-07-01). Use textbbox or textlength instead.\n",
      "  test_width, _ = draw.textsize(test_line, font=font)\n",
      "/var/folders/5s/p7n2md3n27s89lm6qbs7996c0000gn/T/ipykernel_92997/3032877010.py:61: DeprecationWarning: textsize is deprecated and will be removed in Pillow 10 (2023-07-01). Use textbbox or textlength instead.\n",
      "  test_width, _ = draw.textsize(test_line, font=font)\n",
      "/var/folders/5s/p7n2md3n27s89lm6qbs7996c0000gn/T/ipykernel_92997/3032877010.py:61: DeprecationWarning: textsize is deprecated and will be removed in Pillow 10 (2023-07-01). Use textbbox or textlength instead.\n",
      "  test_width, _ = draw.textsize(test_line, font=font)\n",
      "/var/folders/5s/p7n2md3n27s89lm6qbs7996c0000gn/T/ipykernel_92997/3032877010.py:61: DeprecationWarning: textsize is deprecated and will be removed in Pillow 10 (2023-07-01). Use textbbox or textlength instead.\n",
      "  test_width, _ = draw.textsize(test_line, font=font)\n",
      "/var/folders/5s/p7n2md3n27s89lm6qbs7996c0000gn/T/ipykernel_92997/3032877010.py:61: DeprecationWarning: textsize is deprecated and will be removed in Pillow 10 (2023-07-01). Use textbbox or textlength instead.\n",
      "  test_width, _ = draw.textsize(test_line, font=font)\n"
     ]
    },
    {
     "name": "stdout",
     "output_type": "stream",
     "text": [
      "../figures/VOFL_plot.png Left Vertical Occipital Fasciculus (VOF_L)\n"
     ]
    },
    {
     "ename": "ValueError",
     "evalue": "unknown file extension: .svg",
     "output_type": "error",
     "traceback": [
      "\u001b[0;31m---------------------------------------------------------------------------\u001b[0m",
      "\u001b[0;31mKeyError\u001b[0m                                  Traceback (most recent call last)",
      "File \u001b[0;32m~/opt/anaconda3/envs/pyafq_env/lib/python3.9/site-packages/PIL/Image.py:2409\u001b[0m, in \u001b[0;36mImage.save\u001b[0;34m(self, fp, format, **params)\u001b[0m\n\u001b[1;32m   2408\u001b[0m \u001b[38;5;28;01mtry\u001b[39;00m:\n\u001b[0;32m-> 2409\u001b[0m     \u001b[38;5;28mformat\u001b[39m \u001b[38;5;241m=\u001b[39m \u001b[43mEXTENSION\u001b[49m\u001b[43m[\u001b[49m\u001b[43mext\u001b[49m\u001b[43m]\u001b[49m\n\u001b[1;32m   2410\u001b[0m \u001b[38;5;28;01mexcept\u001b[39;00m \u001b[38;5;167;01mKeyError\u001b[39;00m \u001b[38;5;28;01mas\u001b[39;00m e:\n",
      "\u001b[0;31mKeyError\u001b[0m: '.svg'",
      "\nThe above exception was the direct cause of the following exception:\n",
      "\u001b[0;31mValueError\u001b[0m                                Traceback (most recent call last)",
      "Cell \u001b[0;32mIn[9], line 84\u001b[0m\n\u001b[1;32m     81\u001b[0m         text_y \u001b[38;5;241m+\u001b[39m\u001b[38;5;241m=\u001b[39m text_bbox[\u001b[38;5;241m3\u001b[39m] \u001b[38;5;241m-\u001b[39m text_bbox[\u001b[38;5;241m1\u001b[39m]\n\u001b[1;32m     83\u001b[0m \u001b[38;5;66;03m# # Save the montage image with captions\u001b[39;00m\n\u001b[0;32m---> 84\u001b[0m \u001b[43mmontage\u001b[49m\u001b[38;5;241;43m.\u001b[39;49m\u001b[43msave\u001b[49m\u001b[43m(\u001b[49m\u001b[38;5;124;43m\"\u001b[39;49m\u001b[38;5;124;43mmontage_with_captions.svg\u001b[39;49m\u001b[38;5;124;43m\"\u001b[39;49m\u001b[43m)\u001b[49m\n\u001b[1;32m     86\u001b[0m \u001b[38;5;66;03m# Optionally, display the montage image\u001b[39;00m\n\u001b[1;32m     87\u001b[0m montage\u001b[38;5;241m.\u001b[39mshow()\n",
      "File \u001b[0;32m~/opt/anaconda3/envs/pyafq_env/lib/python3.9/site-packages/PIL/Image.py:2412\u001b[0m, in \u001b[0;36mImage.save\u001b[0;34m(self, fp, format, **params)\u001b[0m\n\u001b[1;32m   2410\u001b[0m     \u001b[38;5;28;01mexcept\u001b[39;00m \u001b[38;5;167;01mKeyError\u001b[39;00m \u001b[38;5;28;01mas\u001b[39;00m e:\n\u001b[1;32m   2411\u001b[0m         msg \u001b[38;5;241m=\u001b[39m \u001b[38;5;124mf\u001b[39m\u001b[38;5;124m\"\u001b[39m\u001b[38;5;124munknown file extension: \u001b[39m\u001b[38;5;132;01m{\u001b[39;00mext\u001b[38;5;132;01m}\u001b[39;00m\u001b[38;5;124m\"\u001b[39m\n\u001b[0;32m-> 2412\u001b[0m         \u001b[38;5;28;01mraise\u001b[39;00m \u001b[38;5;167;01mValueError\u001b[39;00m(msg) \u001b[38;5;28;01mfrom\u001b[39;00m \u001b[38;5;21;01me\u001b[39;00m\n\u001b[1;32m   2414\u001b[0m \u001b[38;5;28;01mif\u001b[39;00m \u001b[38;5;28mformat\u001b[39m\u001b[38;5;241m.\u001b[39mupper() \u001b[38;5;129;01mnot\u001b[39;00m \u001b[38;5;129;01min\u001b[39;00m SAVE:\n\u001b[1;32m   2415\u001b[0m     init()\n",
      "\u001b[0;31mValueError\u001b[0m: unknown file extension: .svg"
     ]
    }
   ],
   "source": [
    "\n",
    "# Define the number of rows and columns in the montage\n",
    "num_rows = 4  # Adjust as needed\n",
    "num_cols = 7  # Adjust as needed\n",
    "\n",
    "# Load your PNG images and store them in a list\n",
    "image_paths = glob('../figures/*_plot.png')\n",
    "\n",
    "# Define text captions for each image (adjust as needed)\n",
    "captions = ['Right Vertical Occipital Fasciculus (VOF_R)', 'Right Posterior Arcuate (pARC_R)',\n",
    "            'Right Arcuate (ARC_R)','Right Thalamic Radiation (ATR_R)', 'Right Corticospinal (CST_R)',\n",
    "            'Right IFOF (IFOF_R)', 'Right ILF (ILF_R)', 'Right SLF (SLF_R)','Right Uncinate (UNC_R)',\n",
    "            'Right Cingulum Cingulate (CGC_R)','Orbital','AntFrontal', 'Superior Frontal (SupFrontal)', 'Motor',\n",
    "            'Superior Parietal (SupParietal)','Post Parietal', 'Temporal', 'Occipital', \n",
    "            'Left Cingulum Cingulate (CGC_L)','Left Uncinate (UNC_L)', 'Left SLF (SLF_L)','Left ILF (ILF_L)',\n",
    "            'Left IFOF (IFOF_L)',  'Left Corticospinal (CST_L)','Left Thalamic Radiation (ATR_L)',\n",
    "            'Left Arcuate (ARC_L)','Left Posterior Arcuate (pARC_L)', 'Left Vertical Occipital Fasciculus (VOF_L)']\n",
    "\n",
    "\n",
    "image_paths = sorted(image_paths, key=custom_key)\n",
    "img_cap_dict = {caption: {'path':image_paths[i],\n",
    "                          'img': Image.open(image_paths[i])} for i, caption in enumerate(captions)}\n",
    "\n",
    "# images = [Image.open(img_cap_dict[key]) for key in img_cap_dict.keys()]\n",
    "\n",
    "# Calculate the size of the montage image\n",
    "image_width, image_height = img_cap_dict['Right Vertical Occipital Fasciculus (VOF_R)']['img'].size\n",
    "montage_width = image_width * num_cols\n",
    "montage_height = image_height * num_rows\n",
    "\n",
    "# # Create a blank montage image\n",
    "montage = Image.new(\"RGB\", (montage_width, montage_height))\n",
    "\n",
    "# # Create a drawing context to add text captions\n",
    "draw = ImageDraw.Draw(montage)\n",
    "\n",
    "# # Load a font for captions (adjust the font file path and size as needed)\n",
    "font = ImageFont.truetype(\"/Library/Fonts/Microsoft/Palatino Linotype.ttf\", size=200)\n",
    "\n",
    "# Maximum width for a line of text (adjust as needed)\n",
    "max_text_width = image_width - 20\n",
    "\n",
    "# Iterate through the images and paste them onto the montage with captions\n",
    "for i,key in enumerate(img_cap_dict.keys()):\n",
    "    \n",
    "    print(img_cap_dict[key]['path'],key)\n",
    "    \n",
    "    row = i // num_cols\n",
    "    col = i % num_cols\n",
    "    x_offset = col * image_width\n",
    "    y_offset = row * image_height\n",
    "    montage.paste(img_cap_dict[key]['img'], (x_offset, y_offset))\n",
    "\n",
    "    # Add the text caption above each image\n",
    "    caption = key\n",
    "\n",
    "    # Split the caption into multiple lines if it exceeds the maximum width\n",
    "    lines = []\n",
    "    line = \"\"\n",
    "    for word in caption.split():\n",
    "        test_line = line + \" \" + word if line else word\n",
    "        test_width, _ = draw.textsize(test_line, font=font)\n",
    "        if test_width <= max_text_width:\n",
    "            line = test_line\n",
    "        else:\n",
    "            lines.append(line)\n",
    "            line = word\n",
    "    if line:\n",
    "        lines.append(line)\n",
    "\n",
    "    # Calculate the total height of the text block\n",
    "    total_text_height = len(lines) * draw.textbbox((0, 0), lines[0], font=font)[3]\n",
    "\n",
    "    # Calculate the starting y-position to center the text block above the image\n",
    "    text_y = y_offset + 40\n",
    "\n",
    "    # Draw each line of text centered within the image width\n",
    "    for line in lines:\n",
    "        text_bbox = draw.textbbox((0, 0), line, font=font)\n",
    "        text_x = x_offset + (image_width - (text_bbox[2] - text_bbox[0])) // 2\n",
    "        draw.text((text_x, text_y), line, fill=\"white\", font=font)\n",
    "        text_y += text_bbox[3] - text_bbox[1]\n",
    "\n",
    "# # Save the montage image with captions\n",
    "montage.save(\"montage_with_captions.svg\")\n",
    "\n",
    "# Optionally, display the montage image\n",
    "montage.show()"
   ]
  },
  {
   "cell_type": "code",
   "execution_count": null,
   "id": "fae0356a",
   "metadata": {},
   "outputs": [],
   "source": []
  }
 ],
 "metadata": {
  "kernelspec": {
   "display_name": "Python [conda env:pyafq_env]",
   "language": "python",
   "name": "conda-env-pyafq_env-py"
  },
  "language_info": {
   "codemirror_mode": {
    "name": "ipython",
    "version": 3
   },
   "file_extension": ".py",
   "mimetype": "text/x-python",
   "name": "python",
   "nbconvert_exporter": "python",
   "pygments_lexer": "ipython3",
   "version": "3.9.16"
  }
 },
 "nbformat": 4,
 "nbformat_minor": 5
}
